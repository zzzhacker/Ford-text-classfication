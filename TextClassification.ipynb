{
 "cells": [
  {
   "cell_type": "markdown",
   "metadata": {},
   "source": [
    "# Import Libraries"
   ]
  },
  {
   "cell_type": "code",
   "execution_count": 42,
   "metadata": {},
   "outputs": [],
   "source": [
    "import numpy as np\n",
    "import pandas as pd\n",
    "from sklearn.model_selection import train_test_split\n",
    "import re\n",
    "from collections import Counter\n",
    "import nltk\n",
    "from nltk.corpus import stopwords\n",
    "from collections import defaultdict\n",
    "import matplotlib.pyplot as plt"
   ]
  },
  {
   "cell_type": "code",
   "execution_count": 2,
   "metadata": {},
   "outputs": [
    {
     "name": "stderr",
     "output_type": "stream",
     "text": [
      "[nltk_data] Downloading package stopwords to\n",
      "[nltk_data]     /Users/yogesh/nltk_data...\n",
      "[nltk_data]   Package stopwords is already up-to-date!\n"
     ]
    },
    {
     "data": {
      "text/plain": [
       "True"
      ]
     },
     "execution_count": 2,
     "metadata": {},
     "output_type": "execute_result"
    }
   ],
   "source": [
    "nltk.download('stopwords')"
   ]
  },
  {
   "cell_type": "markdown",
   "metadata": {},
   "source": [
    "# Data Prepration"
   ]
  },
  {
   "cell_type": "code",
   "execution_count": 3,
   "metadata": {},
   "outputs": [],
   "source": [
    "train_df = pd.read_csv('train_data.csv')[['New_Sentence', 'Type']]\n",
    "test_df = pd.read_csv('test_data.csv')"
   ]
  },
  {
   "cell_type": "code",
   "execution_count": 4,
   "metadata": {},
   "outputs": [
    {
     "data": {
      "text/plain": [
       "<AxesSubplot: >"
      ]
     },
     "execution_count": 4,
     "metadata": {},
     "output_type": "execute_result"
    },
    {
     "data": {
      "image/png": "[encoded data removed]",
      "text/plain": [
       "<Figure size 640x480 with 1 Axes>"
      ]
     },
     "metadata": {},
     "output_type": "display_data"
    }
   ],
   "source": [
    "train_df.Type.value_counts().plot(kind='bar')"
   ]
  },
  {
   "cell_type": "markdown",
   "metadata": {},
   "source": [
    "## Data Preprocessing"
   ]
  },
  {
   "cell_type": "markdown",
   "metadata": {},
   "source": [
    "## Remove invalid(Na) sentences"
   ]
  },
  {
   "cell_type": "code",
   "execution_count": 5,
   "metadata": {},
   "outputs": [
    {
     "data": {
      "text/plain": [
       "New_Sentence    1113\n",
       "Type               0\n",
       "dtype: int64"
      ]
     },
     "execution_count": 5,
     "metadata": {},
     "output_type": "execute_result"
    }
   ],
   "source": [
    "train_df.isna().sum()"
   ]
  },
  {
   "cell_type": "code",
   "execution_count": 6,
   "metadata": {},
   "outputs": [],
   "source": [
    "train_df = train_df.dropna()"
   ]
  },
  {
   "cell_type": "markdown",
   "metadata": {},
   "source": [
    "## Data split"
   ]
  },
  {
   "cell_type": "code",
   "execution_count": 7,
   "metadata": {},
   "outputs": [],
   "source": [
    "raw_train_x,raw_dev_x,train_y,dev_y = train_test_split( train_df.New_Sentence, train_df.Type, test_size=0.2,stratify=train_df.Type, random_state=2)"
   ]
  },
  {
   "cell_type": "markdown",
   "metadata": {},
   "source": [
    "## Data Processing"
   ]
  },
  {
   "cell_type": "markdown",
   "metadata": {},
   "source": [
    "### Data Cleaning"
   ]
  },
  {
   "cell_type": "code",
   "execution_count": 46,
   "metadata": {},
   "outputs": [],
   "source": [
    "def preprocess(train_x):\n",
    "    # lower case \n",
    "    train_x = train_x.apply(lambda x:x.lower())\n",
    "    # remove puctutation\n",
    "    train_x = train_x.apply(lambda x:re.sub(r'[^\\w\\s]','',x))\n",
    "    # split words\n",
    "    train_x = train_x.apply(lambda x:x.split())\n",
    "    return train_x"
   ]
  },
  {
   "cell_type": "markdown",
   "metadata": {},
   "source": [
    "### Vocab Buliding"
   ]
  },
  {
   "cell_type": "code",
   "execution_count": 50,
   "metadata": {},
   "outputs": [],
   "source": [
    "train_x  = preprocess(raw_train_x)\n",
    "def build_vocab(train_x):\n",
    "    vocab = Counter()\n",
    "    for words in train_x.tolist():\n",
    "        vocab.update(words)\n",
    "    return vocab\n",
    "vocab = build_vocab(train_x)"
   ]
  },
  {
   "cell_type": "markdown",
   "metadata": {},
   "source": [
    "### Clean Vocab"
   ]
  },
  {
   "cell_type": "code",
   "execution_count": null,
   "metadata": {},
   "outputs": [],
   "source": [
    "def clean_vocab(vocab,min_theshold=5,stopwords_removal=True):\n",
    "    ## remove rare words\n",
    "    vocab = {word: count for word,count in vocab.items() if count>=min_theshold}\n",
    "\n",
    "    ## remove stop words\n",
    "    if stopwords_removal:\n",
    "        vocab = {word: count for word,count in vocab.items() if word not in stopwords.words('english')}\n",
    "    return vocab.keys()\n",
    "\n",
    "vocab = clean_vocab(vocab)"
   ]
  },
  {
   "cell_type": "markdown",
   "metadata": {},
   "source": [
    "### Create Features from our sentence"
   ]
  },
  {
   "cell_type": "code",
   "execution_count": 26,
   "metadata": {},
   "outputs": [],
   "source": [
    "def feature(x):\n",
    "    cntr = Counter(x)\n",
    "    return [1 if word in cntr else 0 for word in vocab]"
   ]
  },
  {
   "cell_type": "code",
   "execution_count": 53,
   "metadata": {},
   "outputs": [],
   "source": [
    "def transform(train_df):\n",
    "    train_df = train_df.apply(lambda x :feature(x))\n",
    "    train_df = pd.DataFrame(np.array(train_df.tolist()),columns=list(vocab))\n",
    "    train_df['Type']= train_y.values\n",
    "    return train_df\n",
    "train_df = transform(train_x)\n"
   ]
  },
  {
   "cell_type": "markdown",
   "metadata": {},
   "source": [
    "## Naive bayes"
   ]
  },
  {
   "cell_type": "code",
   "execution_count": 54,
   "metadata": {},
   "outputs": [],
   "source": [
    "class Naive_bayes:\n",
    "    def __init__(self,smoothing =0):\n",
    "        self.feature_prob = {}\n",
    "        self.class_prob = {}\n",
    "        self.smoothing = smoothing\n",
    "\n",
    "    def train(self,train_data,vocab,target=\"Type\"):\n",
    "        ## Calculate the Class Proabbility P(c) = Number of examples with class C / total number of examples in dataset\n",
    "    \n",
    "        self.class_prob = train_data[target].value_counts()+1/(len(train_data)+train_data[target].nunique())\n",
    "\n",
    "\n",
    "        ## Calculate the conditional feature probablility P(f | C) = Number of exmaples for class C with feature f / total number of words of class C in dataset\n",
    "\n",
    "        ## Here we also used Laplace smoothing \n",
    "        for class_name in self.class_prob.index:\n",
    "            feature_prob_curr= (train_data[train_data[target]==class_name][list(vocab)].sum()+self.smoothing)/(train_data[train_data[target]==class_name][list(vocab)].sum().sum()+(self.smoothing * len(vocab)))\n",
    "            self.feature_prob[class_name] = dict(feature_prob_curr)\n",
    "\n",
    "    def predict(self,test_df):\n",
    "        return test_df.apply(self.predict_helper)\n",
    "\n",
    "    def predict_helper(self,x):\n",
    "        log_prob = defaultdict(int)\n",
    "        cntr = Counter(x)\n",
    "        for class_name in self.class_prob.index:\n",
    "            for word in cntr.keys(): \n",
    "                log_prob[class_name]  += np.log(self.feature_prob[class_name].get(word,1))\n",
    "            log_prob[class_name] += np.log(self.class_prob[class_name])\n",
    "        return max(log_prob,key=log_prob.get)"
   ]
  },
  {
   "cell_type": "code",
   "execution_count": 55,
   "metadata": {},
   "outputs": [],
   "source": [
    "nb_classifier = Naive_bayes(1)\n",
    "nb_classifier.train(train_df,vocab)"
   ]
  },
  {
   "cell_type": "code",
   "execution_count": 56,
   "metadata": {},
   "outputs": [],
   "source": [
    "dev_x = preprocess(raw_dev_x)"
   ]
  },
  {
   "cell_type": "code",
   "execution_count": 57,
   "metadata": {},
   "outputs": [],
   "source": [
    "preds = nb_classifier.predict(dev_x)"
   ]
  },
  {
   "cell_type": "code",
   "execution_count": 58,
   "metadata": {},
   "outputs": [
    {
     "data": {
      "text/plain": [
       "0.6912126091009236"
      ]
     },
     "execution_count": 58,
     "metadata": {},
     "output_type": "execute_result"
    }
   ],
   "source": [
    "(preds == dev_y).sum()/len(preds)"
   ]
  },
  {
   "cell_type": "markdown",
   "metadata": {},
   "source": [
    "### Peformance of our model with laplace smoothing parameter\n"
   ]
  },
  {
   "cell_type": "code",
   "execution_count": 44,
   "metadata": {},
   "outputs": [],
   "source": [
    "alpha = []\n",
    "performance = []\n",
    "for i in range(30):\n",
    "    alpha.append(i)\n",
    "    nb_classifier = Naive_bayes(i)\n",
    "    nb_classifier.train(train_df,vocab)\n",
    "    preds = nb_classifier.predict(dev_x)\n",
    "    performance.append((preds == dev_y).sum()/len(preds))"
   ]
  },
  {
   "cell_type": "code",
   "execution_count": 45,
   "metadata": {},
   "outputs": [
    {
     "data": {
      "text/plain": [
       "[<matplotlib.lines.Line2D at 0x168ba2880>]"
      ]
     },
     "execution_count": 45,
     "metadata": {},
     "output_type": "execute_result"
    },
    {
     "data": {
      "image/png": "[encoded data removed]",
      "text/plain": [
       "<Figure size 640x480 with 1 Axes>"
      ]
     },
     "metadata": {},
     "output_type": "display_data"
    }
   ],
   "source": [
    "plt.plot(alpha,performance)"
   ]
  },
  {
   "cell_type": "code",
   "execution_count": null,
   "metadata": {},
   "outputs": [],
   "source": [
    "## With Stop Words"
   ]
  }
 ],
 "metadata": {
  "kernelspec": {
   "display_name": "Python 3.9.12 ('base')",
   "language": "python",
   "name": "python3"
  },
  "language_info": {
   "codemirror_mode": {
    "name": "ipython",
    "version": 3
   },
   "file_extension": ".py",
   "mimetype": "text/x-python",
   "name": "python",
   "nbconvert_exporter": "python",
   "pygments_lexer": "ipython3",
   "version": "3.9.12"
  },
  "orig_nbformat": 4,
  "vscode": {
   "interpreter": {
    "hash": "0e24ffd4e4325385237c06a23c8eac3fce3b2fa7306790366fd15f9cdb7ae0ff"
   }
  }
 },
 "nbformat": 4,
 "nbformat_minor": 2
}
