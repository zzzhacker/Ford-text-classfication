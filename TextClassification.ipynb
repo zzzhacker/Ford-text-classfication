{
 "cells": [
  {
   "cell_type": "markdown",
   "metadata": {},
   "source": [
    "# Import Libraries"
   ]
  },
  {
   "cell_type": "code",
   "execution_count": 1,
   "metadata": {},
   "outputs": [],
   "source": [
    "import numpy as np\n",
    "import pandas as pd\n",
    "from sklearn.model_selection import train_test_split\n",
    "import re\n",
    "from collections import Counter\n",
    "import nltk\n",
    "from nltk.corpus import stopwords\n",
    "from collections import defaultdict\n",
    "import matplotlib.pyplot as plt"
   ]
  },
  {
   "cell_type": "code",
   "execution_count": 2,
   "metadata": {},
   "outputs": [
    {
     "name": "stderr",
     "output_type": "stream",
     "text": [
      "[nltk_data] Downloading package stopwords to\n",
      "[nltk_data]     /Users/yogesh/nltk_data...\n",
      "[nltk_data]   Package stopwords is already up-to-date!\n"
     ]
    },
    {
     "data": {
      "text/plain": [
       "True"
      ]
     },
     "execution_count": 2,
     "metadata": {},
     "output_type": "execute_result"
    }
   ],
   "source": [
    "nltk.download('stopwords')"
   ]
  },
  {
   "cell_type": "markdown",
   "metadata": {},
   "source": [
    "# Data Prepration"
   ]
  },
  {
   "cell_type": "code",
   "execution_count": 30,
   "metadata": {},
   "outputs": [],
   "source": [
    "train_df = pd.read_csv('train_data.csv')[['New_Sentence', 'Type']]\n",
    "test_df = pd.read_csv('test_data.csv')"
   ]
  },
  {
   "cell_type": "code",
   "execution_count": 31,
   "metadata": {},
   "outputs": [
    {
     "data": {
      "text/plain": [
       "<AxesSubplot: >"
      ]
     },
     "execution_count": 31,
     "metadata": {},
     "output_type": "execute_result"
    },
    {
     "data": {
      "image/png": "[encoded data removed]",
      "text/plain": [
       "<Figure size 640x480 with 1 Axes>"
      ]
     },
     "metadata": {},
     "output_type": "display_data"
    }
   ],
   "source": [
    "train_df.Type.value_counts().plot(kind='bar')"
   ]
  },
  {
   "cell_type": "markdown",
   "metadata": {},
   "source": [
    "## Data Preprocessing"
   ]
  },
  {
   "cell_type": "markdown",
   "metadata": {},
   "source": [
    "## Remove invalid(Na) sentences"
   ]
  },
  {
   "cell_type": "code",
   "execution_count": 32,
   "metadata": {},
   "outputs": [
    {
     "data": {
      "text/plain": [
       "New_Sentence    1113\n",
       "Type               0\n",
       "dtype: int64"
      ]
     },
     "execution_count": 32,
     "metadata": {},
     "output_type": "execute_result"
    }
   ],
   "source": [
    "train_df.isna().sum()"
   ]
  },
  {
   "cell_type": "code",
   "execution_count": 33,
   "metadata": {},
   "outputs": [],
   "source": [
    "train_df = train_df.dropna()"
   ]
  },
  {
   "cell_type": "markdown",
   "metadata": {},
   "source": [
    "## Data split"
   ]
  },
  {
   "cell_type": "code",
   "execution_count": 34,
   "metadata": {},
   "outputs": [],
   "source": [
    "## Source - Sklearn documents (https://scikit-learn.org/stable/modules/generated/sklearn.model_selection.train_test_split.html)\n",
    "raw_train_x,raw_dev_x,train_y,dev_y = train_test_split( train_df.New_Sentence, train_df.Type, test_size=0.2,stratify=train_df.Type, random_state=2)"
   ]
  },
  {
   "cell_type": "markdown",
   "metadata": {},
   "source": [
    "## Data Processing"
   ]
  },
  {
   "cell_type": "markdown",
   "metadata": {},
   "source": [
    "### Data Cleaning"
   ]
  },
  {
   "cell_type": "code",
   "execution_count": 8,
   "metadata": {},
   "outputs": [],
   "source": [
    "def preprocess(train_x):\n",
    "    # lower case \n",
    "    train_x = train_x.apply(lambda x:x.lower())\n",
    "    # remove puctutation\n",
    "    train_x = train_x.apply(lambda x:re.sub(r'[^\\w\\s]','',x))\n",
    "    # split words\n",
    "    train_x = train_x.apply(lambda x:x.split())\n",
    "    return train_x\n",
    "train_x = preprocess(raw_train_x)"
   ]
  },
  {
   "cell_type": "markdown",
   "metadata": {},
   "source": [
    "### Vocab Buliding"
   ]
  },
  {
   "cell_type": "code",
   "execution_count": 9,
   "metadata": {},
   "outputs": [],
   "source": [
    "\n",
    "def build_vocab(train_x):\n",
    "    vocab = Counter()\n",
    "    for words in train_x.tolist():\n",
    "        vocab.update(words)\n",
    "    return vocab\n",
    "vocab = build_vocab(train_x)"
   ]
  },
  {
   "cell_type": "markdown",
   "metadata": {},
   "source": [
    "### Clean Vocab"
   ]
  },
  {
   "cell_type": "code",
   "execution_count": 10,
   "metadata": {},
   "outputs": [],
   "source": [
    "def clean_vocab(vocab,min_theshold=5,stopwords_removal=True):\n",
    "    ## remove rare words\n",
    "    vocab = {word: count for word,count in vocab.items() if count>=min_theshold}\n",
    "\n",
    "    ## remove stop words\n",
    "    if stopwords_removal:\n",
    "        vocab = {word: count for word,count in vocab.items() if word not in stopwords.words('english')}\n",
    "    return vocab.keys()\n",
    "\n",
    "vocab = clean_vocab(vocab)"
   ]
  },
  {
   "cell_type": "markdown",
   "metadata": {},
   "source": [
    "### Create Features from our sentence"
   ]
  },
  {
   "cell_type": "code",
   "execution_count": 11,
   "metadata": {},
   "outputs": [],
   "source": [
    "def feature(x):\n",
    "    cntr = Counter(x)\n",
    "    return [1 if word in cntr else 0 for word in vocab]"
   ]
  },
  {
   "cell_type": "code",
   "execution_count": 12,
   "metadata": {},
   "outputs": [],
   "source": [
    "def transform(train_df,vocab,train_y):\n",
    "    train_df = train_df.apply(lambda x :feature(x))\n",
    "    train_df = pd.DataFrame(np.array(train_df.tolist()),columns=list(vocab))\n",
    "    train_df['Type']= train_y.values\n",
    "    return train_df\n",
    "train_df = transform(train_x,vocab,train_y)\n"
   ]
  },
  {
   "cell_type": "markdown",
   "metadata": {},
   "source": [
    "## Naive bayes"
   ]
  },
  {
   "cell_type": "code",
   "execution_count": 13,
   "metadata": {},
   "outputs": [],
   "source": [
    "class Naive_bayes:\n",
    "    def __init__(self,smoothing =0):\n",
    "        self.feature_prob = {}\n",
    "        self.class_prob = {}\n",
    "        self.smoothing = smoothing\n",
    "\n",
    "    def train(self,train_data,vocab,target=\"Type\"):\n",
    "        ## Calculate the Class Proabbility P(c) = Number of examples with class C / total number of examples in dataset\n",
    "    \n",
    "        self.class_prob = train_data[target].value_counts()/(len(train_data)+train_data[target].nunique())\n",
    "\n",
    "\n",
    "        ## Calculate the conditional feature probablility P(x | C) = Number of word x in all examples of  class C / total number of words of class C in dataset\n",
    "\n",
    "        ## Here we also used Laplace smoothing \n",
    "        for class_name in self.class_prob.index:\n",
    "            feature_prob_curr= (train_data[train_data[target]==class_name][list(vocab)].sum()+self.smoothing)/(train_data[train_data[target]==class_name][list(vocab)].sum().sum()+(self.smoothing * len(vocab)))\n",
    "            self.feature_prob[class_name] = dict(feature_prob_curr)\n",
    "\n",
    "    def predict(self,test_df):\n",
    "        return test_df.apply(self.predict_helper)\n",
    "\n",
    "    def predict_helper(self,x):\n",
    "        log_prob = defaultdict(int)\n",
    "        cntr = Counter(x)\n",
    "        for class_name in self.class_prob.index:\n",
    "            for word in cntr.keys(): \n",
    "                log_prob[class_name]  += np.log(self.feature_prob[class_name].get(word,1))\n",
    "            log_prob[class_name] += np.log(self.class_prob[class_name])\n",
    "        return max(log_prob,key=log_prob.get)"
   ]
  },
  {
   "cell_type": "code",
   "execution_count": 14,
   "metadata": {},
   "outputs": [],
   "source": [
    "nb_classifier = Naive_bayes(1)\n",
    "nb_classifier.train(train_df,vocab)"
   ]
  },
  {
   "cell_type": "code",
   "execution_count": 15,
   "metadata": {},
   "outputs": [],
   "source": [
    "dev_x = preprocess(raw_dev_x)"
   ]
  },
  {
   "cell_type": "code",
   "execution_count": 16,
   "metadata": {},
   "outputs": [],
   "source": [
    "preds = nb_classifier.predict(dev_x)"
   ]
  },
  {
   "cell_type": "code",
   "execution_count": 17,
   "metadata": {},
   "outputs": [
    {
     "data": {
      "text/plain": [
       "0.6912126091009236"
      ]
     },
     "execution_count": 17,
     "metadata": {},
     "output_type": "execute_result"
    }
   ],
   "source": [
    "(preds == dev_y).sum()/len(preds)"
   ]
  },
  {
   "cell_type": "markdown",
   "metadata": {},
   "source": [
    "### Peformance of our model with laplace smoothing parameter\n"
   ]
  },
  {
   "cell_type": "code",
   "execution_count": 23,
   "metadata": {},
   "outputs": [],
   "source": [
    "alpha = []\n",
    "performance = []\n",
    "for i in range(30):\n",
    "    alpha.append(i)\n",
    "    nb_classifier = Naive_bayes(i)\n",
    "    nb_classifier.train(train_df,vocab)\n",
    "    preds = nb_classifier.predict(dev_x)\n",
    "    performance.append((preds == dev_y).sum()/len(preds))"
   ]
  },
  {
   "cell_type": "code",
   "execution_count": 24,
   "metadata": {},
   "outputs": [
    {
     "data": {
      "text/plain": [
       "Text(0, 0.5, 'Accuracy')"
      ]
     },
     "execution_count": 24,
     "metadata": {},
     "output_type": "execute_result"
    },
    {
     "data": {
      "image/png": "[encoded data removed]",
      "text/plain": [
       "<Figure size 640x480 with 1 Axes>"
      ]
     },
     "metadata": {},
     "output_type": "display_data"
    }
   ],
   "source": [
    "plt.plot(alpha,performance)\n",
    "plt.xlabel('Alpha')\n",
    "plt.ylabel('Accuracy')"
   ]
  },
  {
   "cell_type": "markdown",
   "metadata": {},
   "source": [
    "### Performance with and withour stopwords"
   ]
  },
  {
   "cell_type": "code",
   "execution_count": 27,
   "metadata": {},
   "outputs": [],
   "source": [
    "## With Stop Words\n",
    "performance = []\n",
    "stopword_remove = [True,False]\n",
    "train_x  = preprocess(raw_train_x)\n",
    "for stopword in stopword_remove:\n",
    "    vocab = build_vocab(train_x)\n",
    "    vocab = clean_vocab(vocab,stopwords_removal=stopword)\n",
    "    train_df = transform(train_x, vocab, train_y)\n",
    "    nb_classifier = Naive_bayes(1)\n",
    "    nb_classifier.train(train_df,vocab)\n",
    "    preds = nb_classifier.predict(dev_x)\n",
    "    performance.append((preds == dev_y).sum()/len(preds))\n"
   ]
  },
  {
   "cell_type": "code",
   "execution_count": 21,
   "metadata": {},
   "outputs": [
    {
     "data": {
      "text/plain": [
       "Text(0, 0.5, 'Accuracy')"
      ]
     },
     "execution_count": 21,
     "metadata": {},
     "output_type": "execute_result"
    },
    {
     "data": {
      "image/png": "[encoded data removed]",
      "text/plain": [
       "<Figure size 640x480 with 1 Axes>"
      ]
     },
     "metadata": {},
     "output_type": "display_data"
    }
   ],
   "source": [
    "plt.bar(np.array(stopword_remove).astype(str),performance)\n",
    "plt.xlabel('Stop words Removal')\n",
    "plt.ylabel('Accuracy')"
   ]
  },
  {
   "cell_type": "markdown",
   "metadata": {},
   "source": [
    "### Performance with different thershold for rare words"
   ]
  },
  {
   "cell_type": "code",
   "execution_count": 25,
   "metadata": {},
   "outputs": [],
   "source": [
    "\n",
    "performance = []\n",
    "rare_words_removed = []\n",
    "train_x  = preprocess(raw_train_x)\n",
    "for min_theshold in [0,5,10,25,50,100]:\n",
    "    vocab = build_vocab(train_x)\n",
    "    vocab = clean_vocab(vocab,min_theshold=min_theshold)\n",
    "    train_df = transform(train_x, vocab, train_y)\n",
    "    nb_classifier = Naive_bayes(1)\n",
    "    nb_classifier.train(train_df,vocab)\n",
    "    rare_words_removed.append(min_theshold)\n",
    "    preds = nb_classifier.predict(dev_x)\n",
    "    performance.append((preds == dev_y).sum()/len(preds))"
   ]
  },
  {
   "cell_type": "code",
   "execution_count": 26,
   "metadata": {},
   "outputs": [
    {
     "data": {
      "text/plain": [
       "Text(0, 0.5, 'Accuracy')"
      ]
     },
     "execution_count": 26,
     "metadata": {},
     "output_type": "execute_result"
    },
    {
     "data": {
      "image/png": "[encoded data removed]",
      "text/plain": [
       "<Figure size 640x480 with 1 Axes>"
      ]
     },
     "metadata": {},
     "output_type": "display_data"
    }
   ],
   "source": [
    "plt.bar(np.array(rare_words_removed).astype(str),performance)\n",
    "plt.xlabel('rare_words_removed')\n",
    "plt.ylabel('Accuracy')"
   ]
  },
  {
   "cell_type": "code",
   "execution_count": null,
   "metadata": {},
   "outputs": [],
   "source": []
  }
 ],
 "metadata": {
  "kernelspec": {
   "display_name": "Python 3.9.12 ('base')",
   "language": "python",
   "name": "python3"
  },
  "language_info": {
   "codemirror_mode": {
    "name": "ipython",
    "version": 3
   },
   "file_extension": ".py",
   "mimetype": "text/x-python",
   "name": "python",
   "nbconvert_exporter": "python",
   "pygments_lexer": "ipython3",
   "version": "3.9.12"
  },
  "orig_nbformat": 4,
  "vscode": {
   "interpreter": {
    "hash": "0e24ffd4e4325385237c06a23c8eac3fce3b2fa7306790366fd15f9cdb7ae0ff"
   }
  }
 },
 "nbformat": 4,
 "nbformat_minor": 2
}
